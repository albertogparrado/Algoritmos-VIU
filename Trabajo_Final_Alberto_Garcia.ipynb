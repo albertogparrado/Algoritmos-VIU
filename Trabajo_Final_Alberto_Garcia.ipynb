{
 "cells": [
  {
   "cell_type": "markdown",
   "id": "677ca062",
   "metadata": {},
   "source": [
    "# Trabajo Final\n",
    "\n",
    "Alumno: **Alberto García Parrado**\n",
    "\n",
    "Github: https://github.com/albertogparrado/Algoritmos-VIU"
   ]
  },
  {
   "cell_type": "markdown",
   "id": "e58abe21",
   "metadata": {},
   "source": [
    "# Problema 1. Organizar sesiones de doblaje(I)\n",
    "\n",
    "Se precisa coordinar el doblaje de una película. Los actores del doblaje deben coincidir en las\n",
    "tomas en las que sus personajes aparecen juntos en las diferentes tomas. Los actores de\n",
    "doblaje cobran todos la misma cantidad por cada día que deben desplazarse hasta el estudio de\n",
    "grabación independientemente del número de tomas que se graben. No es posible grabar más\n",
    "de 6 tomas por día. El objetivo es planificar las sesiones por día de manera que el gasto por los\n",
    "servicios de los actores de doblaje sea el menor posible.\n",
    "\n",
    "Número de actores: 10\n",
    "Número de tomas : 30\n",
    "Actores/Tomas : https://bit.ly/36D8IuK\n",
    "\n",
    "- 1 indica que el actor participa en la toma\n",
    "- 0 en caso contrario"
   ]
  },
  {
   "cell_type": "code",
   "execution_count": null,
   "id": "4b73597a",
   "metadata": {},
   "outputs": [
    {
     "name": "stdout",
     "output_type": "stream",
     "text": [
      "💾 File 'tomas-progress.csv' loaded successfully.\n",
      "   Toma  1  2  3  4  5  6  7  8  9  10  Total\n",
      "0     1  1  1  1  1  1  0  0  0  0   0      5\n",
      "1     2  0  0  1  1  1  0  0  0  0   0      3\n",
      "2     3  0  1  0  0  1  0  1  0  0   0      3\n",
      "3     4  1  1  0  0  0  0  1  1  0   0      4\n",
      "4     5  0  1  0  1  0  0  0  1  0   0      3\n"
     ]
    }
   ],
   "source": [
    "import numpy as np\n",
    "import pandas as pd\n",
    "\n",
    "csv_inicial = 'tomas_actores.csv'\n",
    "csv_progress_calculated = 'calculated_progress.csv'\n",
    "\n",
    "def loadCSV():\n",
    "    try:\n",
    "        # Load file with progress data\n",
    "        df = pd.read_csv(csv_progress_calculated)\n",
    "        print(f\"💾 File '{csv_progress_calculated}' loaded successfully.\")\n",
    "        return df\n",
    "    except:\n",
    "        # Load inicial file\n",
    "        df = pd.read_csv(csv_inicial)\n",
    "        print(f\"💾🆕 Loaded new file {csv_inicial}\")\n",
    "\n",
    "        return df\n",
    "\n",
    "df = loadCSV()\n",
    "# preview 5 firts rows\n",
    "print(df.head())"
   ]
  },
  {
   "cell_type": "markdown",
   "id": "232a0866",
   "metadata": {},
   "source": [
    "# Restricciones"
   ]
  },
  {
   "cell_type": "code",
   "execution_count": null,
   "id": "4d29a5d9",
   "metadata": {},
   "outputs": [],
   "source": [
    "max_consecutive_filming_hours = 6\n",
    "maximum_number_of_doses_per_day = 6\n"
   ]
  },
  {
   "cell_type": "markdown",
   "id": "f6886892",
   "metadata": {},
   "source": [
    "# Guardar los datos en local\n",
    "\n",
    "En este paso se quiere hacer un guardado de los datos en local paso a paso por si hay alguna interrupción del proceso"
   ]
  },
  {
   "cell_type": "code",
   "execution_count": null,
   "id": "451a08ad",
   "metadata": {},
   "outputs": [],
   "source": [
    "def save_progress(best_solution: list[list[int]], best_cost: float, visited_nodes: int, pruned_nodes: int):\n",
    "    \"\"\"\n",
    "    Saves the current best solution and search statistics to local files.\n",
    "    Metrics are saved in a simple text file. The calendar is saved as a CSV.\n",
    "    \"\"\"\n",
    "    df.to_csv(csv_progress_calculated, index=False)\n"
   ]
  },
  {
   "cell_type": "markdown",
   "id": "e4a2f15b",
   "metadata": {},
   "source": [
    "# Resolución del problema\n",
    "\n",
    "En este paso se ejecutarán los pasos necesarios para resolver el problema."
   ]
  },
  {
   "cell_type": "code",
   "execution_count": null,
   "id": "b141ad31",
   "metadata": {},
   "outputs": [],
   "source": [
    "def resolve():\n",
    "    # add steps\n",
    "\n",
    "resolve()"
   ]
  }
 ],
 "metadata": {
  "kernelspec": {
   "display_name": "base",
   "language": "python",
   "name": "python3"
  },
  "language_info": {
   "codemirror_mode": {
    "name": "ipython",
    "version": 3
   },
   "file_extension": ".py",
   "mimetype": "text/x-python",
   "name": "python",
   "nbconvert_exporter": "python",
   "pygments_lexer": "ipython3",
   "version": "3.12.7"
  }
 },
 "nbformat": 4,
 "nbformat_minor": 5
}
