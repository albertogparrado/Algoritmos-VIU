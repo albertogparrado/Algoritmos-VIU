{
 "cells": [
  {
   "cell_type": "markdown",
   "id": "677ca062",
   "metadata": {},
   "source": [
    "# Trabajo Final\n",
    "\n",
    "Alumno: **Alberto García Parrado**\n",
    "\n",
    "Github: https://github.com/albertogparrado/Algoritmos-VIU"
   ]
  }
 ],
 "metadata": {
  "language_info": {
   "name": "python"
  }
 },
 "nbformat": 4,
 "nbformat_minor": 5
}
