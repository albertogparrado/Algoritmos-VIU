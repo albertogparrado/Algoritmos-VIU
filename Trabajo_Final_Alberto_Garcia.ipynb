{
 "cells": [
  {
   "cell_type": "markdown",
   "id": "677ca062",
   "metadata": {},
   "source": [
    "# Trabajo Final\n",
    "\n",
    "Alumno: **Alberto García Parrado**\n",
    "\n",
    "Github: https://github.com/albertogparrado/Algoritmos-VIU"
   ]
  },
  {
   "cell_type": "markdown",
   "id": "e58abe21",
   "metadata": {},
   "source": [
    "# Problema 1. Organizar sesiones de doblaje(I)\n",
    "\n",
    "Se precisa coordinar el doblaje de una película. Los actores del doblaje deben coincidir en las\n",
    "tomas en las que sus personajes aparecen juntos en las diferentes tomas. Los actores de\n",
    "doblaje cobran todos la misma cantidad por cada día que deben desplazarse hasta el estudio de\n",
    "grabación independientemente del número de tomas que se graben. No es posible grabar más\n",
    "de 6 tomas por día. El objetivo es planificar las sesiones por día de manera que el gasto por los\n",
    "servicios de los actores de doblaje sea el menor posible.\n",
    "\n",
    "Número de actores: 10\n",
    "Número de tomas : 30\n",
    "Actores/Tomas : https://bit.ly/36D8IuK\n",
    "\n",
    "- 1 indica que el actor participa en la toma\n",
    "- 0 en caso contrario"
   ]
  }
 ],
 "metadata": {
  "language_info": {
   "name": "python"
  }
 },
 "nbformat": 4,
 "nbformat_minor": 5
}
